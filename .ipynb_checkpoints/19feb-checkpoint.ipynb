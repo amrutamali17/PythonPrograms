{
 "cells": [
  {
   "cell_type": "markdown",
   "id": "df7571e2-65b9-45cb-985c-4382911c5c22",
   "metadata": {},
   "source": [
    "***Welcome to Jupyter Lab***"
   ]
  },
  {
   "cell_type": "code",
   "execution_count": 4,
   "id": "b745ccb2-9f50-4371-a045-784a0b3e3d0b",
   "metadata": {},
   "outputs": [],
   "source": [
    "a = 32"
   ]
  },
  {
   "cell_type": "code",
   "execution_count": 7,
   "id": "64b6d6b0-f05c-42b7-9a34-e9770dbfa9de",
   "metadata": {},
   "outputs": [],
   "source": [
    "b = 34"
   ]
  },
  {
   "cell_type": "code",
   "execution_count": 8,
   "id": "7f1d9678-67dc-43aa-992f-3b4bfb0949fc",
   "metadata": {},
   "outputs": [
    {
     "name": "stdout",
     "output_type": "stream",
     "text": [
      "This is my book\n"
     ]
    }
   ],
   "source": [
    "print(\"This is my book\")"
   ]
  },
  {
   "cell_type": "code",
   "execution_count": 15,
   "id": "fb269e8b-646c-4f31-90c6-153f41f3eedd",
   "metadata": {},
   "outputs": [
    {
     "name": "stdout",
     "output_type": "stream",
     "text": [
      "35\n",
      "John\n"
     ]
    }
   ],
   "source": [
    "x = 35  (variable assign)\n",
    "y = \"John\"\n",
    "print(x)\n",
    "print(y)\n",
    "\n"
   ]
  },
  {
   "cell_type": "code",
   "execution_count": 21,
   "id": "7459401d-83f0-4372-bcc4-824ce8817620",
   "metadata": {},
   "outputs": [
    {
     "name": "stdout",
     "output_type": "stream",
     "text": [
      "<class 'int'>\n",
      "<class 'str'>\n"
     ]
    }
   ],
   "source": [
    "x = 35         #type() fun is use to get type like int,float etc\n",
    "y = \"amrita\"\n",
    "print(type(x))\n",
    "print(type(y))"
   ]
  },
  {
   "cell_type": "code",
   "execution_count": 19,
   "id": "03afb12c-ac8d-4691-b6a6-5e8f80514aaa",
   "metadata": {},
   "outputs": [
    {
     "name": "stdout",
     "output_type": "stream",
     "text": [
      "sally\n"
     ]
    }
   ],
   "source": [
    "x = 4\n",
    "x = \"sally\"  #why becoz it give reassign value of x and it is sally(py is dynamicaltyped.\n",
    "print(x)"
   ]
  },
  {
   "cell_type": "code",
   "execution_count": 25,
   "id": "576e9579-7991-4229-9683-cfca7d469124",
   "metadata": {},
   "outputs": [
    {
     "name": "stdout",
     "output_type": "stream",
     "text": [
      "4\n",
      "sally\n"
     ]
    }
   ],
   "source": [
    "a = 4    #case sensitive - not overwrite on a\n",
    "A = \"sally\"\n",
    "print(a)\n",
    "print(A)"
   ]
  },
  {
   "cell_type": "code",
   "execution_count": 27,
   "id": "405fef2a-2dd9-4aec-b93a-182d5939cb8b",
   "metadata": {},
   "outputs": [
    {
     "name": "stdout",
     "output_type": "stream",
     "text": [
      "Orange\n",
      "Banana\n",
      "Cherry\n"
     ]
    }
   ],
   "source": [
    "x,y,z = \"Orange\", \"Banana\", \"Cherry\"\n",
    "print(x)   #value assign to multiple variable in one line\n",
    "print(y)\n",
    "print(z)"
   ]
  },
  {
   "cell_type": "code",
   "execution_count": 29,
   "id": "0996a880-0759-4b5a-a3c4-489147e26e7d",
   "metadata": {},
   "outputs": [
    {
     "name": "stdout",
     "output_type": "stream",
     "text": [
      "Orange\n",
      "Orange\n",
      "Orange\n"
     ]
    }
   ],
   "source": [
    "x = y = z = \"Orange\"\n",
    "print(x)   #one value to multiple variable\n",
    "print(y)\n",
    "print(z)"
   ]
  },
  {
   "cell_type": "code",
   "execution_count": 32,
   "id": "a88cb617-3934-4079-bd43-9308443e4ec9",
   "metadata": {},
   "outputs": [
    {
     "name": "stdout",
     "output_type": "stream",
     "text": [
      "apple\n",
      "banana\n",
      "cherry\n"
     ]
    }
   ],
   "source": [
    "fruits = [\"apple\", \"banana\" , \"cherry\"]\n",
    "x, y, z  = fruits\n",
    "print(x)\n",
    "print(y)\n",
    "print(z)"
   ]
  },
  {
   "cell_type": "code",
   "execution_count": 36,
   "id": "d06b5543-3b93-43a7-8943-3b5de751aead",
   "metadata": {},
   "outputs": [
    {
     "name": "stdout",
     "output_type": "stream",
     "text": [
      "python is awesome\n"
     ]
    }
   ],
   "source": [
    "x = \"python\"   #multiple variable seprated by comma\n",
    "y = \"is\"       # + oprator use getinh that op\n",
    "z = \"awesome\"\n",
    "print(x, y, z)"
   ]
  },
  {
   "cell_type": "code",
   "execution_count": 37,
   "id": "91c2094c-fe9e-4004-b626-a4bad30b72d5",
   "metadata": {},
   "outputs": [
    {
     "name": "stdout",
     "output_type": "stream",
     "text": [
      "15\n"
     ]
    }
   ],
   "source": [
    "x = 5 # (not applicable for string and inst add better way use ,)\n",
    "y = 10\n",
    "print(x + y)"
   ]
  },
  {
   "cell_type": "code",
   "execution_count": 41,
   "id": "87b58abf-c208-4219-866f-b684e2a2c884",
   "metadata": {},
   "outputs": [
    {
     "name": "stdout",
     "output_type": "stream",
     "text": [
      "Python is awesome\n"
     ]
    }
   ],
   "source": [
    "x = \"awesome\"\n",
    "def myfunc():\n",
    "    print(\"Python is \" + x)\n",
    "myfunc()"
   ]
  },
  {
   "cell_type": "code",
   "execution_count": 43,
   "id": "3e4f9d6e-750c-4393-a9b5-e0a1a0baa681",
   "metadata": {},
   "outputs": [
    {
     "name": "stdout",
     "output_type": "stream",
     "text": [
      "<class 'str'>\n",
      "<class 'int'>\n",
      "<class 'float'>\n",
      "<class 'complex'>\n",
      "<class 'list'>\n",
      "<class 'tuple'>\n",
      "<class 'range'>\n",
      "<class 'dict'>\n",
      "<class 'NoneType'>\n",
      "<class 'bool'>\n",
      "<class 'NoneType'>\n"
     ]
    }
   ],
   "source": [
    "x = \"Hello world\"  #data type\n",
    "y = 20\n",
    "z = 20.5\n",
    "a = 1j\n",
    "b = [\"apple\", \"banana\", \"cherry\"]\n",
    "c = (\"apple\", \"banana\", \"cherry\")\n",
    "d = range(6)\n",
    "e = {\"name\" : \"john\",\"age\" : 36}\n",
    "f = {\"apple\" , \"banana\", \"cherry\"}\n",
    "g = True\n",
    "f = None\n",
    "print(type(x))\n",
    "print(type(y))\n",
    "print(type(z))\n",
    "print(type(a))\n",
    "print(type(b))\n",
    "print(type(c))\n",
    "print(type(d))\n",
    "print(type(e))\n",
    "print(type(f))\n",
    "print(type(g))\n",
    "print(type(f))\n"
   ]
  },
  {
   "cell_type": "code",
   "execution_count": 49,
   "id": "854cd2bd-a530-4a7d-82a0-4e495739b497",
   "metadata": {},
   "outputs": [
    {
     "name": "stdout",
     "output_type": "stream",
     "text": [
      "4\n"
     ]
    }
   ],
   "source": [
    "import random   #import random module to display random no\n",
    "print(random.randrange(1, 10))"
   ]
  },
  {
   "cell_type": "code",
   "execution_count": 50,
   "id": "7a6f91fa-fb6e-4b85-a6f5-66a9bc1d191f",
   "metadata": {},
   "outputs": [
    {
     "name": "stdout",
     "output_type": "stream",
     "text": [
      "hello\n",
      "hello\n"
     ]
    }
   ],
   "source": [
    "print(\"hello\")   #string it may single or double quotation\n",
    "print('hello')"
   ]
  },
  {
   "cell_type": "code",
   "execution_count": 54,
   "id": "683d65c8-a2c9-4f0d-b3b4-e738ada0fc48",
   "metadata": {},
   "outputs": [
    {
     "name": "stdout",
     "output_type": "stream",
     "text": [
      "amruta    \n",
      "      mali\n"
     ]
    }
   ],
   "source": [
    "a = \"\"\"amruta    \n",
    "      mali\"\"\"\n",
    "print(a)    #also use 3double quotes or ''' ab'''"
   ]
  },
  {
   "cell_type": "code",
   "execution_count": 55,
   "id": "81fe8d2f-07a7-4f91-9d57-5579e6a16def",
   "metadata": {},
   "outputs": [
    {
     "name": "stdout",
     "output_type": "stream",
     "text": [
      "e\n"
     ]
    }
   ],
   "source": [
    "#Get the character at position 1\n",
    "a = \"Hello, World!\"\n",
    "print(a[1])"
   ]
  },
  {
   "cell_type": "code",
   "execution_count": 56,
   "id": "a40e9c67-86b7-4427-8017-27bc4266b65a",
   "metadata": {},
   "outputs": [
    {
     "name": "stdout",
     "output_type": "stream",
     "text": [
      "b\n",
      "a\n",
      "n\n",
      "a\n",
      "n\n",
      "a\n"
     ]
    }
   ],
   "source": [
    "#Looping Through a String\n",
    "for x in \"banana\":\n",
    "    print(x)"
   ]
  },
  {
   "cell_type": "code",
   "execution_count": 65,
   "id": "b1a7292b-8be2-4c93-b924-cfd02fd9dbd9",
   "metadata": {},
   "outputs": [
    {
     "name": "stdout",
     "output_type": "stream",
     "text": [
      "13\n"
     ]
    }
   ],
   "source": [
    "#string length len()\n",
    "a = \"Hello, world!\"\n",
    "print(len(a))\n",
    "\n"
   ]
  },
  {
   "cell_type": "code",
   "execution_count": 66,
   "id": "89b9cfad-eedc-4092-9bd5-20dfd212e010",
   "metadata": {},
   "outputs": [
    {
     "name": "stdout",
     "output_type": "stream",
     "text": [
      "llo\n"
     ]
    }
   ],
   "source": [
    "#slicing string\n",
    "b = \"Hello, World!\"\n",
    "print(b[2:5])"
   ]
  },
  {
   "cell_type": "code",
   "execution_count": 68,
   "id": "9755cec1-4b3e-486b-a7f7-402e61309579",
   "metadata": {},
   "outputs": [
    {
     "name": "stdout",
     "output_type": "stream",
     "text": [
      "Hello\n"
     ]
    }
   ],
   "source": [
    "b = \"Hello,world!\"  # start slice\n",
    "print(b[:5])"
   ]
  },
  {
   "cell_type": "code",
   "execution_count": 69,
   "id": "982790c6-e186-4cd9-ae06-73118348f06b",
   "metadata": {},
   "outputs": [
    {
     "name": "stdout",
     "output_type": "stream",
     "text": [
      "llo,world!\n"
     ]
    }
   ],
   "source": [
    "b = \"Hello,world!\"\n",
    "print(b[2:])"
   ]
  },
  {
   "cell_type": "code",
   "execution_count": 70,
   "id": "cbe53f27-bd2d-4c05-9e55-96c7ab063824",
   "metadata": {},
   "outputs": [
    {
     "name": "stdout",
     "output_type": "stream",
     "text": [
      "HELLO, WORLD!\n"
     ]
    }
   ],
   "source": [
    "#uppercase upper() string\n",
    "a = \"Hello, World!\"\n",
    "print(a.upper())"
   ]
  },
  {
   "cell_type": "code",
   "execution_count": 72,
   "id": "1955ea0d-e2f6-4cd0-b2bf-f46f92099f99",
   "metadata": {},
   "outputs": [
    {
     "name": "stdout",
     "output_type": "stream",
     "text": [
      "hello\n"
     ]
    }
   ],
   "source": [
    "#string lowercase lower()\n",
    "A = \"HELLO\"\n",
    "print(A.lower())"
   ]
  },
  {
   "cell_type": "code",
   "execution_count": 74,
   "id": "32288ad4-e70b-45e3-9e91-b70b1698f539",
   "metadata": {},
   "outputs": [
    {
     "name": "stdout",
     "output_type": "stream",
     "text": [
      "Jello, world!\n"
     ]
    }
   ],
   "source": [
    "a = \"Hello, world!\"\n",
    "print(a.replace(\"H\", \"J\"))"
   ]
  },
  {
   "cell_type": "code",
   "execution_count": null,
   "id": "cb0b07ac-b72d-400c-8926-d84184a8c669",
   "metadata": {},
   "outputs": [],
   "source": []
  }
 ],
 "metadata": {
  "kernelspec": {
   "display_name": "Python 3 (ipykernel)",
   "language": "python",
   "name": "python3"
  },
  "language_info": {
   "codemirror_mode": {
    "name": "ipython",
    "version": 3
   },
   "file_extension": ".py",
   "mimetype": "text/x-python",
   "name": "python",
   "nbconvert_exporter": "python",
   "pygments_lexer": "ipython3",
   "version": "3.11.5"
  }
 },
 "nbformat": 4,
 "nbformat_minor": 5
}
